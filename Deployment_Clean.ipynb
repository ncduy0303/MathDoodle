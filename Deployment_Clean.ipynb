{
 "cells": [
  {
   "cell_type": "code",
   "execution_count": null,
   "metadata": {},
   "outputs": [],
   "source": [
    "from fastai.vision.all import *\n",
    "from fastai.vision.widgets import *"
   ]
  },
  {
   "cell_type": "code",
   "execution_count": null,
   "metadata": {},
   "outputs": [],
   "source": [
    "class MultiModel(Module):\n",
    "    \"A multi-head model given an 'encoder' and 'n' output features\"\n",
    "    def __init__(self, encoder, n):\n",
    "        nf = num_features_model(encoder) * 2\n",
    "        self.encoder = encoder\n",
    "        self.num1 = create_head(nf, n[0])\n",
    "        self.num2 = create_head(nf, n[1])\n",
    "        self.op = create_head(nf, n[2])\n",
    "  \n",
    "    def forward(self, x):\n",
    "        y = self.encoder(x)\n",
    "        num1 = self.num1(y)\n",
    "        num2 = self.num2(y)\n",
    "        op = self.op(y)\n",
    "        return [num1, num2, op]\n",
    "    \n",
    "class CombinationLoss(Module):\n",
    "    \"Calculate total loss from 3 targets with custom contribution\"\n",
    "    def __init__(self, func=F.cross_entropy, weights=[1, 1, 1]):\n",
    "        self.func, self.w = func, weights\n",
    "\n",
    "    def forward(self, xs, *ys, reduction='mean'):\n",
    "        loss = 0\n",
    "        for i, w, x, y in zip(range(len(xs)), self.w, xs, ys):\n",
    "            loss += w * self.func(x, y, reduction=reduction) \n",
    "        return loss\n",
    "    \n",
    "def num1_acc(inp, num1_targ, num2_targ, op_targ, axis=-1):\n",
    "    pred, targ = flatten_check(inp[0].argmax(dim=axis), num1_targ)\n",
    "    return (pred == targ).float().mean()\n",
    "\n",
    "def num2_acc(inp, num1_targ, num2_targ, op_targ, axis=-1):\n",
    "    pred, targ = flatten_check(inp[1].argmax(dim=axis), num2_targ)\n",
    "    return (pred == targ).float().mean()\n",
    "\n",
    "def op_acc(inp, num1_targ, num2_targ, op_targ, axis=-1):\n",
    "    pred, targ = flatten_check(inp[2].argmax(dim=axis), op_targ)\n",
    "    return (pred == targ).float().mean()\n",
    "\n",
    "def combine_acc(inp, num1_targ, num2_targ, op_targ, axis=-1):\n",
    "    pred1, targ1 = flatten_check(inp[0].argmax(dim=axis), num1_targ)\n",
    "    pred2, targ2 = flatten_check(inp[1].argmax(dim=axis), num2_targ)\n",
    "    pred3, targ3 = flatten_check(inp[2].argmax(dim=axis), op_targ)\n",
    "    acc1 = pred1 == targ1\n",
    "    acc2 = pred2 == targ2\n",
    "    acc3 = pred3 == targ3\n",
    "    acc = acc1 & acc2 & acc3\n",
    "    return acc.float().mean()\n",
    "    \n",
    "def multimodel_split(m): return L(m.encoder, nn.Sequential(m.num1, m.num2, m.op)).map(params)\n",
    "\n",
    "@patch\n",
    "def predict(self:Learner, item):\n",
    "    dl = self.dls.test_dl([item], num_workers=0)\n",
    "    preds, _ = self.get_preds(dl=dl)\n",
    "    num1 = self.dls.vocab[0][preds[0].argmax(dim=1)][0]\n",
    "    num2 = self.dls.vocab[1][preds[1].argmax(dim=1)][0]\n",
    "    op   = self.dls.vocab[2][preds[2].argmax(dim=1)][0]\n",
    "    if op == 'plus': \n",
    "        ans = num1 + num2\n",
    "        op = '+'\n",
    "    if op == 'minus': \n",
    "        ans = num1 - num2\n",
    "        op = '-'\n",
    "    if op == 'times': \n",
    "        ans = num1 * num2\n",
    "        op = '*'\n",
    "    if op == 'divide': \n",
    "        if num2 == 0: return f'Division by zero!'\n",
    "        ans = num1 / num2\n",
    "        op = '/'\n",
    "    return f'{num1} {op} {num2} = {ans:.2f}'"
   ]
  },
  {
   "cell_type": "code",
   "execution_count": null,
   "metadata": {},
   "outputs": [],
   "source": [
    "learn_inf = load_learner('model.pkl')"
   ]
  },
  {
   "cell_type": "code",
   "execution_count": null,
   "metadata": {},
   "outputs": [],
   "source": [
    "btn_upload = widgets.FileUpload()\n",
    "btn_run = widgets.Button(description='Calculate')\n",
    "out_pl = widgets.Output()\n",
    "lbl_pred = widgets.Label()"
   ]
  },
  {
   "cell_type": "code",
   "execution_count": null,
   "metadata": {},
   "outputs": [],
   "source": [
    "def on_click_classify(change):\n",
    "    img = PILImageBW.create(btn_upload.data[-1])\n",
    "    out_pl.clear_output()\n",
    "    with out_pl: display(img.to_thumb(128, 128))\n",
    "    pred = learn_inf.predict(img)\n",
    "    lbl_pred.value = f'Answer: {pred}'\n",
    "\n",
    "btn_run.on_click(on_click_classify)"
   ]
  },
  {
   "cell_type": "markdown",
   "metadata": {},
   "source": [
    "# PhotoMath App"
   ]
  },
  {
   "cell_type": "code",
   "execution_count": null,
   "metadata": {},
   "outputs": [],
   "source": [
    "VBox([widgets.Label('Upload a math expression!'), btn_upload, btn_run, out_pl, lbl_pred])"
   ]
  },
  {
   "cell_type": "code",
   "execution_count": null,
   "metadata": {},
   "outputs": [],
   "source": []
  }
 ],
 "metadata": {
  "kernelspec": {
   "display_name": "Python 3",
   "language": "python",
   "name": "python3"
  },
  "language_info": {
   "codemirror_mode": {
    "name": "ipython",
    "version": 3
   },
   "file_extension": ".py",
   "mimetype": "text/x-python",
   "name": "python",
   "nbconvert_exporter": "python",
   "pygments_lexer": "ipython3",
   "version": "3.8.5"
  }
 },
 "nbformat": 4,
 "nbformat_minor": 4
}
